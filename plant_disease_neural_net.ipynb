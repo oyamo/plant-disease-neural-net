{
  "cells": [
    {
      "cell_type": "markdown",
      "metadata": {
        "id": "view-in-github",
        "colab_type": "text"
      },
      "source": [
        "<a href=\"https://colab.research.google.com/github/oyamo/plant-disease-neural-net/blob/main/plant_disease_neural_net.ipynb\" target=\"_parent\"><img src=\"https://colab.research.google.com/assets/colab-badge.svg\" alt=\"Open In Colab\"/></a>"
      ]
    },
    {
      "cell_type": "code",
      "execution_count": null,
      "metadata": {
        "id": "FfNqebKbTf-u"
      },
      "outputs": [],
      "source": [
        "!rm -rf ./kaggle/plant_disease"
      ]
    },
    {
      "cell_type": "code",
      "execution_count": null,
      "metadata": {
        "id": "S1XGmpAQfLBp"
      },
      "outputs": [],
      "source": [
        "!rm -rf kaggle"
      ]
    },
    {
      "cell_type": "code",
      "execution_count": null,
      "metadata": {
        "colab": {
          "base_uri": "https://localhost:8080/"
        },
        "id": "AnSeCrJnIlG7",
        "outputId": "288279ff-f803-49c5-ac9c-8b921ff8c145"
      },
      "outputs": [
        {
          "output_type": "stream",
          "name": "stdout",
          "text": [
            "Looking in indexes: https://pypi.org/simple, https://us-python.pkg.dev/colab-wheels/public/simple/\n",
            "Collecting opendatasets\n",
            "  Downloading opendatasets-0.1.22-py3-none-any.whl (15 kB)\n",
            "Requirement already satisfied: kaggle in /usr/local/lib/python3.7/dist-packages (from opendatasets) (1.5.12)\n",
            "Requirement already satisfied: tqdm in /usr/local/lib/python3.7/dist-packages (from opendatasets) (4.64.1)\n",
            "Requirement already satisfied: click in /usr/local/lib/python3.7/dist-packages (from opendatasets) (7.1.2)\n",
            "Requirement already satisfied: certifi in /usr/local/lib/python3.7/dist-packages (from kaggle->opendatasets) (2022.6.15)\n",
            "Requirement already satisfied: six>=1.10 in /usr/local/lib/python3.7/dist-packages (from kaggle->opendatasets) (1.15.0)\n",
            "Requirement already satisfied: python-dateutil in /usr/local/lib/python3.7/dist-packages (from kaggle->opendatasets) (2.8.2)\n",
            "Requirement already satisfied: python-slugify in /usr/local/lib/python3.7/dist-packages (from kaggle->opendatasets) (6.1.2)\n",
            "Requirement already satisfied: urllib3 in /usr/local/lib/python3.7/dist-packages (from kaggle->opendatasets) (1.24.3)\n",
            "Requirement already satisfied: requests in /usr/local/lib/python3.7/dist-packages (from kaggle->opendatasets) (2.23.0)\n",
            "Requirement already satisfied: text-unidecode>=1.3 in /usr/local/lib/python3.7/dist-packages (from python-slugify->kaggle->opendatasets) (1.3)\n",
            "Requirement already satisfied: chardet<4,>=3.0.2 in /usr/local/lib/python3.7/dist-packages (from requests->kaggle->opendatasets) (3.0.4)\n",
            "Requirement already satisfied: idna<3,>=2.5 in /usr/local/lib/python3.7/dist-packages (from requests->kaggle->opendatasets) (2.10)\n",
            "Installing collected packages: opendatasets\n",
            "Successfully installed opendatasets-0.1.22\n",
            "Please provide your Kaggle credentials to download this dataset. Learn more: http://bit.ly/kaggle-creds\n",
            "Your Kaggle username: oyamobrian\n",
            "Your Kaggle Key: ··········\n",
            "Downloading new-plant-diseases-dataset.zip to ./new-plant-diseases-dataset\n"
          ]
        },
        {
          "output_type": "stream",
          "name": "stderr",
          "text": [
            "100%|██████████| 2.70G/2.70G [00:20<00:00, 141MB/s]\n"
          ]
        },
        {
          "output_type": "stream",
          "name": "stdout",
          "text": [
            "\n"
          ]
        }
      ],
      "source": [
        "!pip install opendatasets\n",
        "import opendatasets as od\n",
        "import pandas\n",
        "  \n",
        "od.download(\n",
        "    \"https://www.kaggle.com/datasets/vipoooool/new-plant-diseases-dataset\")"
      ]
    },
    {
      "cell_type": "code",
      "execution_count": null,
      "metadata": {
        "id": "ZEGFD2OEQgHO",
        "colab": {
          "base_uri": "https://localhost:8080/"
        },
        "outputId": "1231b0b2-63ae-48ed-c51c-5fef87c7374a"
      },
      "outputs": [
        {
          "output_type": "stream",
          "name": "stdout",
          "text": [
            "404 - Not Found\n"
          ]
        }
      ],
      "source": [
        "#@title Default title text\n",
        "!kaggle datasets download -d vipoooool/new-plant-diseases-dataset ./kaggle/plant-disease-dataset/"
      ]
    },
    {
      "cell_type": "code",
      "execution_count": null,
      "metadata": {
        "id": "ft4DCU9y4ezJ"
      },
      "outputs": [],
      "source": [
        "import tensorflow as tf\n",
        "from tensorflow import keras\n",
        "\n",
        "import matplotlib.pyplot as plt\n",
        "import numpy as np\n",
        "\n",
        "import os"
      ]
    },
    {
      "cell_type": "code",
      "execution_count": null,
      "metadata": {
        "id": "jw-UNlUnIoH2"
      },
      "outputs": [],
      "source": [
        "image_size = 224\n",
        "target_size = (image_size, image_size)\n",
        "input_shape = (image_size, image_size, 3)\n",
        "\n",
        "batch_size = 32\n",
        "epochs = 25\n",
        "\n"
      ]
    },
    {
      "cell_type": "code",
      "execution_count": null,
      "metadata": {
        "id": "Aqzq-HT8RogD"
      },
      "outputs": [],
      "source": [
        "base_dir='/content/new-plant-diseases-dataset/New Plant Diseases Dataset(Augmented)/New Plant Diseases Dataset(Augmented)'\n",
        "train_dir = os.path.join(base_dir,\"train\")\n",
        "test_dir = os.path.join(base_dir,\"valid\")"
      ]
    },
    {
      "cell_type": "code",
      "execution_count": null,
      "metadata": {
        "id": "FNzsgM82Sin0"
      },
      "outputs": [],
      "source": [
        "train_datagen = keras.preprocessing.image.ImageDataGenerator(rescale = 1/255.0,\n",
        "                                                             shear_range = 0.2,\n",
        "                                                             zoom_range = 0.2,\n",
        "                                                             width_shift_range = 0.2,\n",
        "                                                             height_shift_range = 0.2,\n",
        "                                                             fill_mode=\"nearest\")\n",
        "\n",
        "test_datagen = keras.preprocessing.image.ImageDataGenerator(rescale = 1/255.0)"
      ]
    },
    {
      "cell_type": "code",
      "execution_count": null,
      "metadata": {
        "colab": {
          "base_uri": "https://localhost:8080/"
        },
        "id": "Sn8tmea1SvtL",
        "outputId": "5f2ce4c9-2437-49b5-8975-86a3d89075a0"
      },
      "outputs": [
        {
          "output_type": "stream",
          "name": "stdout",
          "text": [
            "Found 70295 images belonging to 38 classes.\n",
            "Found 17572 images belonging to 38 classes.\n"
          ]
        }
      ],
      "source": [
        "train_data = train_datagen.flow_from_directory(train_dir,\n",
        "                                               target_size = (image_size, image_size),\n",
        "                                               batch_size = batch_size,\n",
        "                                               class_mode = \"categorical\")\n",
        "\n",
        "test_data = test_datagen.flow_from_directory(test_dir,\n",
        "                                             target_size = (image_size, image_size),\n",
        "                                             batch_size = batch_size,\n",
        "                                             class_mode = \"categorical\")"
      ]
    },
    {
      "cell_type": "code",
      "execution_count": null,
      "metadata": {
        "colab": {
          "base_uri": "https://localhost:8080/"
        },
        "id": "Wu1y5c_xfjlW",
        "outputId": "e475899c-afb6-415e-fbe4-722149958112"
      },
      "outputs": [
        {
          "output_type": "stream",
          "name": "stdout",
          "text": [
            "{'Apple___Apple_scab': 0, 'Apple___Black_rot': 1, 'Apple___Cedar_apple_rust': 2, 'Apple___healthy': 3, 'Blueberry___healthy': 4, 'Cherry_(including_sour)___Powdery_mildew': 5, 'Cherry_(including_sour)___healthy': 6, 'Corn_(maize)___Cercospora_leaf_spot Gray_leaf_spot': 7, 'Corn_(maize)___Common_rust_': 8, 'Corn_(maize)___Northern_Leaf_Blight': 9, 'Corn_(maize)___healthy': 10, 'Grape___Black_rot': 11, 'Grape___Esca_(Black_Measles)': 12, 'Grape___Leaf_blight_(Isariopsis_Leaf_Spot)': 13, 'Grape___healthy': 14, 'Orange___Haunglongbing_(Citrus_greening)': 15, 'Peach___Bacterial_spot': 16, 'Peach___healthy': 17, 'Pepper,_bell___Bacterial_spot': 18, 'Pepper,_bell___healthy': 19, 'Potato___Early_blight': 20, 'Potato___Late_blight': 21, 'Potato___healthy': 22, 'Raspberry___healthy': 23, 'Soybean___healthy': 24, 'Squash___Powdery_mildew': 25, 'Strawberry___Leaf_scorch': 26, 'Strawberry___healthy': 27, 'Tomato___Bacterial_spot': 28, 'Tomato___Early_blight': 29, 'Tomato___Late_blight': 30, 'Tomato___Leaf_Mold': 31, 'Tomato___Septoria_leaf_spot': 32, 'Tomato___Spider_mites Two-spotted_spider_mite': 33, 'Tomato___Target_Spot': 34, 'Tomato___Tomato_Yellow_Leaf_Curl_Virus': 35, 'Tomato___Tomato_mosaic_virus': 36, 'Tomato___healthy': 37}\n"
          ]
        }
      ],
      "source": [
        "categories = list(train_data.class_indices.keys())\n",
        "print(train_data.class_indices)"
      ]
    },
    {
      "cell_type": "code",
      "execution_count": null,
      "metadata": {
        "colab": {
          "base_uri": "https://localhost:8080/",
          "height": 34
        },
        "id": "hWHYlOurijmh",
        "outputId": "8ab98bb4-8639-41a9-bf9d-f65f3bf6b181"
      },
      "outputs": [
        {
          "output_type": "execute_result",
          "data": {
            "text/plain": [
              "/content/class_indices.json"
            ],
            "text/html": [
              "<a href='class_indices.json' target='_blank'>class_indices.json</a><br>"
            ]
          },
          "metadata": {},
          "execution_count": 18
        }
      ],
      "source": [
        "import json\n",
        "with open('class_indices.json','w') as f:\n",
        "  json.dump(train_data.class_indices, f)\n",
        "\n",
        "from IPython.display import FileLink\n",
        "FileLink(r'class_indices.json')"
      ]
    },
    {
      "cell_type": "code",
      "execution_count": null,
      "metadata": {
        "colab": {
          "base_uri": "https://localhost:8080/"
        },
        "id": "E7UgaPUgip5R",
        "outputId": "0e9118e2-8105-4a45-a4fc-8cb522f429c3"
      },
      "outputs": [
        {
          "output_type": "stream",
          "name": "stdout",
          "text": [
            "Downloading data from https://storage.googleapis.com/tensorflow/keras-applications/mobilenet/mobilenet_1_0_224_tf_no_top.h5\n",
            "17227776/17225924 [==============================] - 0s 0us/step\n",
            "17235968/17225924 [==============================] - 0s 0us/step\n"
          ]
        }
      ],
      "source": [
        "# Training\n",
        "# We first get the base MobileNet model without including the top layers since we want to use it for 38 classes and us the pre-trained weights for ImageNet.\n",
        "base_model = tf.keras.applications.MobileNet(weights = \"imagenet\",\n",
        "                                             include_top = False,\n",
        "                                             input_shape = input_shape)\n",
        "\n",
        "base_model.trainable = False"
      ]
    },
    {
      "cell_type": "code",
      "execution_count": null,
      "metadata": {
        "id": "fi11Dgvji8gj"
      },
      "outputs": [],
      "source": [
        "# Create an upstream on top of the MobileNet\n",
        "inputs = keras.Input(shape = input_shape)\n",
        "\n",
        "x = base_model(inputs, training = False)\n",
        "x = tf.keras.layers.GlobalAveragePooling2D()(x)\n",
        "x = tf.keras.layers.Dropout(0.2)(x)\n",
        "x = tf.keras.layers.Dense(len(categories), \n",
        "                          activation=\"softmax\")(x)\n",
        "\n",
        "model = keras.Model(inputs = inputs, \n",
        "                    outputs = x, \n",
        "                    name=\"LeafDisease_MobileNet\")"
      ]
    },
    {
      "cell_type": "code",
      "execution_count": null,
      "metadata": {
        "id": "Blyo4PDdjQ1y"
      },
      "outputs": [],
      "source": [
        "optimizer = tf.keras.optimizers.Adam()\n",
        "\n",
        "model.compile(optimizer = optimizer,\n",
        "              loss = tf.keras.losses.CategoricalCrossentropy(from_logits = True),\n",
        "              metrics=[keras.metrics.CategoricalAccuracy(), \n",
        "                       'accuracy'])"
      ]
    },
    {
      "cell_type": "code",
      "execution_count": null,
      "metadata": {
        "colab": {
          "base_uri": "https://localhost:8080/"
        },
        "id": "8PqYxV20j3zs",
        "outputId": "369d81d0-6e98-4a26-cc56-c989fc1611a6"
      },
      "outputs": [
        {
          "metadata": {
            "tags": null
          },
          "name": "stdout",
          "output_type": "stream",
          "text": [
            "Epoch 1/25\n"
          ]
        },
        {
          "metadata": {
            "tags": null
          },
          "name": "stderr",
          "output_type": "stream",
          "text": [
            "/usr/local/lib/python3.7/dist-packages/tensorflow/python/util/dispatch.py:1082: UserWarning: \"`categorical_crossentropy` received `from_logits=True`, but the `output` argument was produced by a sigmoid or softmax activation and thus does not represent logits. Was this intended?\"\n",
            "  return dispatch_target(*args, **kwargs)\n"
          ]
        },
        {
          "output_type": "stream",
          "name": "stdout",
          "text": [
            "150/150 [==============================] - 328s 2s/step - loss: 1.9867 - categorical_accuracy: 0.4702 - accuracy: 0.4702 - val_loss: 0.8073 - val_categorical_accuracy: 0.8016 - val_accuracy: 0.8016\n",
            "Epoch 2/25\n",
            "150/150 [==============================] - 319s 2s/step - loss: 0.7709 - categorical_accuracy: 0.7804 - accuracy: 0.7804 - val_loss: 0.5008 - val_categorical_accuracy: 0.8675 - val_accuracy: 0.8675\n",
            "Epoch 3/25\n",
            "150/150 [==============================] - 311s 2s/step - loss: 0.5549 - categorical_accuracy: 0.8427 - accuracy: 0.8427 - val_loss: 0.3664 - val_categorical_accuracy: 0.8997 - val_accuracy: 0.8997\n",
            "Epoch 4/25\n",
            "150/150 [==============================] - 302s 2s/step - loss: 0.4461 - categorical_accuracy: 0.8673 - accuracy: 0.8673 - val_loss: 0.3099 - val_categorical_accuracy: 0.9150 - val_accuracy: 0.9150\n",
            "Epoch 5/25\n",
            "150/150 [==============================] - 317s 2s/step - loss: 0.4138 - categorical_accuracy: 0.8754 - accuracy: 0.8754 - val_loss: 0.2970 - val_categorical_accuracy: 0.9087 - val_accuracy: 0.9087\n",
            "Epoch 6/25\n",
            "150/150 [==============================] - 302s 2s/step - loss: 0.3525 - categorical_accuracy: 0.8896 - accuracy: 0.8896 - val_loss: 0.2509 - val_categorical_accuracy: 0.9231 - val_accuracy: 0.9231\n",
            "Epoch 7/25\n",
            "150/150 [==============================] - 307s 2s/step - loss: 0.3380 - categorical_accuracy: 0.8975 - accuracy: 0.8975 - val_loss: 0.2315 - val_categorical_accuracy: 0.9337 - val_accuracy: 0.9337\n",
            "Epoch 8/25\n",
            "150/150 [==============================] - 305s 2s/step - loss: 0.3086 - categorical_accuracy: 0.9017 - accuracy: 0.9017 - val_loss: 0.2377 - val_categorical_accuracy: 0.9284 - val_accuracy: 0.9284\n",
            "Epoch 9/25\n",
            "150/150 [==============================] - 314s 2s/step - loss: 0.2985 - categorical_accuracy: 0.9052 - accuracy: 0.9052 - val_loss: 0.2286 - val_categorical_accuracy: 0.9287 - val_accuracy: 0.9287\n",
            "Epoch 10/25\n",
            "150/150 [==============================] - 319s 2s/step - loss: 0.2967 - categorical_accuracy: 0.9075 - accuracy: 0.9075 - val_loss: 0.1991 - val_categorical_accuracy: 0.9403 - val_accuracy: 0.9403\n",
            "Epoch 11/25\n",
            "150/150 [==============================] - 325s 2s/step - loss: 0.2726 - categorical_accuracy: 0.9127 - accuracy: 0.9127 - val_loss: 0.2384 - val_categorical_accuracy: 0.9187 - val_accuracy: 0.9187\n",
            "Epoch 12/25\n",
            "150/150 [==============================] - 316s 2s/step - loss: 0.2626 - categorical_accuracy: 0.9185 - accuracy: 0.9185 - val_loss: 0.1946 - val_categorical_accuracy: 0.9375 - val_accuracy: 0.9375\n",
            "Epoch 13/25\n",
            "150/150 [==============================] - 312s 2s/step - loss: 0.2607 - categorical_accuracy: 0.9160 - accuracy: 0.9160 - val_loss: 0.1988 - val_categorical_accuracy: 0.9353 - val_accuracy: 0.9353\n",
            "Epoch 14/25\n",
            "150/150 [==============================] - 321s 2s/step - loss: 0.2319 - categorical_accuracy: 0.9271 - accuracy: 0.9271 - val_loss: 0.1980 - val_categorical_accuracy: 0.9394 - val_accuracy: 0.9394\n",
            "Epoch 15/25\n",
            "150/150 [==============================] - 321s 2s/step - loss: 0.2497 - categorical_accuracy: 0.9162 - accuracy: 0.9162 - val_loss: 0.1883 - val_categorical_accuracy: 0.9384 - val_accuracy: 0.9384\n",
            "Epoch 16/25\n",
            "150/150 [==============================] - 317s 2s/step - loss: 0.2384 - categorical_accuracy: 0.9240 - accuracy: 0.9240 - val_loss: 0.1755 - val_categorical_accuracy: 0.9409 - val_accuracy: 0.9409\n",
            "Epoch 17/25\n",
            "150/150 [==============================] - 325s 2s/step - loss: 0.2348 - categorical_accuracy: 0.9215 - accuracy: 0.9215 - val_loss: 0.1776 - val_categorical_accuracy: 0.9397 - val_accuracy: 0.9397\n",
            "Epoch 18/25\n",
            "150/150 [==============================] - 320s 2s/step - loss: 0.2346 - categorical_accuracy: 0.9229 - accuracy: 0.9229 - val_loss: 0.1560 - val_categorical_accuracy: 0.9484 - val_accuracy: 0.9484\n",
            "Epoch 19/25\n",
            "150/150 [==============================] - 337s 2s/step - loss: 0.2258 - categorical_accuracy: 0.9225 - accuracy: 0.9225 - val_loss: 0.1597 - val_categorical_accuracy: 0.9494 - val_accuracy: 0.9494\n",
            "Epoch 20/25\n",
            "150/150 [==============================] - 332s 2s/step - loss: 0.2179 - categorical_accuracy: 0.9283 - accuracy: 0.9283 - val_loss: 0.1789 - val_categorical_accuracy: 0.9431 - val_accuracy: 0.9431\n",
            "Epoch 21/25\n",
            "150/150 [==============================] - 330s 2s/step - loss: 0.2021 - categorical_accuracy: 0.9333 - accuracy: 0.9333 - val_loss: 0.1588 - val_categorical_accuracy: 0.9466 - val_accuracy: 0.9466\n",
            "Epoch 22/25\n",
            "150/150 [==============================] - 331s 2s/step - loss: 0.2239 - categorical_accuracy: 0.9290 - accuracy: 0.9290 - val_loss: 0.1376 - val_categorical_accuracy: 0.9522 - val_accuracy: 0.9522\n",
            "Epoch 23/25\n",
            "150/150 [==============================] - 324s 2s/step - loss: 0.2224 - categorical_accuracy: 0.9275 - accuracy: 0.9275 - val_loss: 0.1501 - val_categorical_accuracy: 0.9488 - val_accuracy: 0.9488\n",
            "Epoch 24/25\n",
            "150/150 [==============================] - 325s 2s/step - loss: 0.2003 - categorical_accuracy: 0.9335 - accuracy: 0.9335 - val_loss: 0.1392 - val_categorical_accuracy: 0.9522 - val_accuracy: 0.9522\n",
            "Epoch 25/25\n",
            "150/150 [==============================] - 326s 2s/step - loss: 0.1956 - categorical_accuracy: 0.9304 - accuracy: 0.9304 - val_loss: 0.1428 - val_categorical_accuracy: 0.9528 - val_accuracy: 0.9528\n"
          ]
        }
      ],
      "source": [
        "# train the model\n",
        "history = model.fit(train_data,\n",
        "                    validation_data=test_data,\n",
        "                    epochs=epochs,\n",
        "                    steps_per_epoch=150,\n",
        "                    validation_steps=100)\n"
      ]
    },
    {
      "cell_type": "code",
      "source": [
        "loss = history.history['loss']\n",
        "val_loss = history.history['val_loss']\n",
        "\n",
        "epochs = range(len(loss))\n",
        "\n",
        "fig = plt.figure(figsize=(10,6))\n",
        "plt.plot(epochs,loss,c=\"red\",label=\"Training\")\n",
        "plt.plot(epochs,val_loss,c=\"blue\",label=\"Validation\")\n",
        "plt.xlabel(\"Epochs\")\n",
        "plt.ylabel(\"Loss\")\n",
        "plt.legend()"
      ],
      "metadata": {
        "colab": {
          "base_uri": "https://localhost:8080/",
          "height": 406
        },
        "id": "17QEU3lwmTNF",
        "outputId": "bd7578bb-5891-4cd6-d0a3-9a6d419d85a2"
      },
      "execution_count": null,
      "outputs": [
        {
          "output_type": "execute_result",
          "data": {
            "text/plain": [
              "<matplotlib.legend.Legend at 0x7f0898535790>"
            ]
          },
          "metadata": {},
          "execution_count": 23
        },
        {
          "output_type": "display_data",
          "data": {
            "text/plain": [
              "<Figure size 720x432 with 1 Axes>"
            ],
            "image/png": "[encoded data removed]"
          },
          "metadata": {
            "needs_background": "light"
          }
        }
      ]
    },
    {
      "cell_type": "code",
      "source": [
        "model.save('plant_disease')\n"
      ],
      "metadata": {
        "id": "35kSQc6eHe6G"
      },
      "execution_count": null,
      "outputs": []
    },
    {
      "cell_type": "code",
      "source": [
        "converter = tf.lite.TFLiteConverter.from_saved_model('plant_disease') # path to the SavedModel directory\n",
        "tflite_model = converter.convert()\n",
        "\n",
        "# Save the model.\n",
        "with open('model.tflite', 'wb') as f:\n",
        "  f.write(tflite_model)"
      ],
      "metadata": {
        "id": "b0irEDlqH2Z9"
      },
      "execution_count": null,
      "outputs": []
    }
  ],
  "metadata": {
    "colab": {
      "provenance": [],
      "collapsed_sections": [],
      "authorship_tag": "ABX9TyM8fewOY9xJmOYzKrjnzZKO",
      "include_colab_link": true
    },
    "kernelspec": {
      "display_name": "Python 3",
      "name": "python3"
    },
    "language_info": {
      "name": "python"
    }
  },
  "nbformat": 4,
  "nbformat_minor": 0
}